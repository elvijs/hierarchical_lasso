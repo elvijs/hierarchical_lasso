{
 "cells": [
  {
   "cell_type": "code",
   "execution_count": 5,
   "id": "6493bc65",
   "metadata": {},
   "outputs": [],
   "source": [
    "import numpy as np\n",
    "\n",
    "Samples3D = np.ndarray # rows are samples, columns - x, y, z \n",
    "\n",
    "\n",
    "def sample_unit_sphere(npoints: int) -> Samples3D:\n",
    "    ndim = 3\n",
    "    vec = np.random.randn(ndim, npoints)\n",
    "    vec /= np.linalg.norm(vec, axis=0)\n",
    "    return vec.T"
   ]
  },
  {
   "cell_type": "code",
   "execution_count": 23,
   "id": "9c01786a",
   "metadata": {},
   "outputs": [],
   "source": [
    "def uniform_3d_samples(npoints: int) -> Samples3D:\n",
    "    ndim = 3\n",
    "    return np.random.randn(ndim, npoints).T"
   ]
  },
  {
   "cell_type": "code",
   "execution_count": 7,
   "id": "b89cb979",
   "metadata": {},
   "outputs": [
    {
     "data": {
      "text/plain": [
       "array([[-0.09538149, -0.79358754, -0.60093359],\n",
       "       [ 0.85181805, -0.04172811,  0.52217313],\n",
       "       [-0.60404173,  0.63706545, -0.47883316],\n",
       "       [ 0.78033708,  0.59989158, -0.17664692],\n",
       "       [ 0.30422927,  0.82127015, -0.48265919],\n",
       "       [ 0.05116614, -0.96768959, -0.24689852],\n",
       "       [-0.8259531 , -0.1767017 ,  0.53532979],\n",
       "       [ 0.82073602, -0.43855531, -0.36614427],\n",
       "       [-0.54481887, -0.8240459 , -0.15530858],\n",
       "       [-0.98326205,  0.13607881,  0.12115405]])"
      ]
     },
     "execution_count": 7,
     "metadata": {},
     "output_type": "execute_result"
    }
   ],
   "source": [
    "sample_unit_sphere(10)"
   ]
  },
  {
   "cell_type": "code",
   "execution_count": 24,
   "id": "fe8bfcfd",
   "metadata": {},
   "outputs": [
    {
     "data": {
      "text/plain": [
       "array([[ 2.76393456e-01,  1.72498828e+00, -2.27503188e+00],\n",
       "       [-1.14858688e+00, -1.43718710e+00, -2.09980569e-03],\n",
       "       [ 9.35816095e-01,  2.87501152e-03, -4.03953463e-03],\n",
       "       [ 1.10402894e+00,  8.62517645e-01, -2.23661906e+00],\n",
       "       [ 6.16701775e-02, -2.68824994e-01,  4.31143823e-01],\n",
       "       [-2.14009510e+00,  3.03271663e-01,  3.47890966e-01],\n",
       "       [ 5.83453400e-01,  1.83241088e+00, -1.18328519e+00],\n",
       "       [-1.15704643e+00, -1.10263009e+00, -7.96880468e-01],\n",
       "       [ 2.00537833e-01, -4.23827020e-02,  7.47356127e-01],\n",
       "       [-4.51634147e-01,  1.27147189e+00,  2.61814660e-01]])"
      ]
     },
     "execution_count": 24,
     "metadata": {},
     "output_type": "execute_result"
    }
   ],
   "source": [
    "uniform_3d_samples(10)"
   ]
  },
  {
   "cell_type": "code",
   "execution_count": 15,
   "id": "fb74e234",
   "metadata": {},
   "outputs": [],
   "source": [
    "Mask3D = np.ndarray  # A boolean array representing a mask. Shape as in Samples3D\n",
    "\n",
    "\n",
    "def constraints(arr: Samples3D) -> Mask3D:\n",
    "    \"\"\" |x| >= |z| and |y| >= |z| \"\"\"\n",
    "    x, y, z = arr[:, 0], arr[:, 1], arr[:, 2]\n",
    "    mask = np.logical_and(np.abs(x) >= np.abs(z), np.abs(y) >= np.abs(z))\n",
    "    return mask"
   ]
  },
  {
   "cell_type": "code",
   "execution_count": 16,
   "id": "16508b5e",
   "metadata": {},
   "outputs": [
    {
     "data": {
      "text/plain": [
       "array([ True, False,  True,  True, False, False, False, False, False,\n",
       "       False])"
      ]
     },
     "execution_count": 16,
     "metadata": {},
     "output_type": "execute_result"
    }
   ],
   "source": [
    "constraints(sample_unit_sphere(10))"
   ]
  },
  {
   "cell_type": "code",
   "execution_count": 17,
   "id": "3a79eff1",
   "metadata": {},
   "outputs": [
    {
     "name": "stdout",
     "output_type": "stream",
     "text": [
      "[[-0.34018505  0.68153926  0.64790305]\n",
      " [-0.14970856  0.8741025   0.46209541]\n",
      " [-0.3939928   0.69111919 -0.60590753]\n",
      " [ 0.23674422 -0.9404402   0.24397623]\n",
      " [-0.1354907  -0.40632428  0.90362761]\n",
      " [-0.84639224 -0.4689849  -0.25233576]\n",
      " [ 0.05504609  0.80818724  0.58634744]\n",
      " [-0.04985157  0.99359881 -0.10137171]\n",
      " [-0.94622201 -0.07535082 -0.31462067]\n",
      " [ 0.45281919  0.67198555  0.58599505]]\n",
      "[False False False False False  True False False False False]\n",
      "\n",
      "[[-0.84639224 -0.4689849  -0.25233576]]\n"
     ]
    }
   ],
   "source": [
    "a = sample_unit_sphere(10)\n",
    "print(a)\n",
    "\n",
    "c = constraints(a)\n",
    "print(c)\n",
    "\n",
    "print()\n",
    "print(a[c])"
   ]
  },
  {
   "cell_type": "code",
   "execution_count": 18,
   "id": "71d0363a",
   "metadata": {},
   "outputs": [
    {
     "name": "stdout",
     "output_type": "stream",
     "text": [
      "(321, 3)\n"
     ]
    }
   ],
   "source": [
    "sphere_samples = sample_unit_sphere(1_000)\n",
    "sphere_constraint_mask = constraints(sphere_samples)\n",
    "\n",
    "sphere_feasible_set = sphere_samples[sphere_constraint_mask]\n",
    "print(sphere_feasible_set.shape)"
   ]
  },
  {
   "cell_type": "code",
   "execution_count": 22,
   "id": "34a03d21",
   "metadata": {},
   "outputs": [],
   "source": [
    "import csv\n",
    "\n",
    "with open(\"feasible_set_3d.csv\", \"w\") as f:\n",
    "    writer = csv.DictWriter(f, fieldnames=[\"x\", \"y\", \"z\"])\n",
    "    for sample in list(feasible_set):\n",
    "        writer.writerow({\"x\": sample[0], \"y\": sample[1], \"z\": sample[2]})"
   ]
  },
  {
   "cell_type": "code",
   "execution_count": 25,
   "id": "0d680d7a",
   "metadata": {},
   "outputs": [
    {
     "name": "stdout",
     "output_type": "stream",
     "text": [
      "(328, 3)\n"
     ]
    }
   ],
   "source": [
    "uniform_samples = uniform_3d_samples(1_000)\n",
    "uniform_constraint_mask = constraints(uniform_samples)\n",
    "\n",
    "uniform_feasible_set = uniform_samples[uniform_constraint_mask]\n",
    "print(uniform_feasible_set.shape)"
   ]
  },
  {
   "cell_type": "code",
   "execution_count": 26,
   "id": "b1a333dd",
   "metadata": {},
   "outputs": [],
   "source": [
    "with open(\"uniform_feasible_set_3d.csv\", \"w\") as f:\n",
    "    writer = csv.DictWriter(f, fieldnames=[\"x\", \"y\", \"z\"])\n",
    "    writer.writeheader()\n",
    "    for sample in list(uniform_feasible_set):\n",
    "        writer.writerow({\"x\": sample[0], \"y\": sample[1], \"z\": sample[2]})"
   ]
  },
  {
   "cell_type": "code",
   "execution_count": null,
   "id": "68206194",
   "metadata": {},
   "outputs": [],
   "source": []
  }
 ],
 "metadata": {
  "kernelspec": {
   "display_name": "Python 3",
   "language": "python",
   "name": "python3"
  },
  "language_info": {
   "codemirror_mode": {
    "name": "ipython",
    "version": 3
   },
   "file_extension": ".py",
   "mimetype": "text/x-python",
   "name": "python",
   "nbconvert_exporter": "python",
   "pygments_lexer": "ipython3",
   "version": "3.8.8"
  }
 },
 "nbformat": 4,
 "nbformat_minor": 5
}
